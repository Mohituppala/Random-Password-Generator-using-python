{
 "cells": [
  {
   "cell_type": "code",
   "execution_count": 2,
   "id": "17361838",
   "metadata": {},
   "outputs": [
    {
     "name": "stdout",
     "output_type": "stream",
     "text": [
      "How many characters do you want in your password? (minimum 4)6\n",
      "Do you want to include capital letters? (y/n)y\n",
      "Do you want to include numbers? (y/n)y\n",
      "Do you want to include special characters (y/n)y\n",
      "fW1)dG\n"
     ]
    }
   ],
   "source": [
    "import random\n",
    "\n",
    "# Define lists of special characters and lowercase letters\n",
    "chars = ['!', '£', '\"', '$', '%', '^', '&', '*', '(', ')', '-', '_', '@', '~', '#', \"'\", '<', '>', ',', '.', '?', '/', '|', '¬', '+', '=', ' ']\n",
    "letts = ['a', 'b', 'c', 'd', 'e', 'f', 'g', 'h', 'i', 'j', 'k', 'l', 'm', 'n', 'o', 'p', 'q', 'r', 's', 't', 'u', 'v', 'w', 'x', 'y', 'z']\n",
    "\n",
    "# Shuffle the order of elements in both lists randomly\n",
    "random.shuffle(letts)\n",
    "random.shuffle(chars)\n",
    "\n",
    "# Initialize variables to determine password criteria\n",
    "incCaps = False\n",
    "incNums = False\n",
    "incChar = False\n",
    "\n",
    "i = 0\n",
    "\n",
    "# Prompt the user to enter the desired password length\n",
    "noChars = int(input('How many characters do you want in your password? (minimum 4)'))\n",
    "\n",
    "# Ask the user whether to include uppercase letters\n",
    "caps = input('Do you want to include capital letters? (y/n)')\n",
    "if caps == 'y':\n",
    "    incCaps = True\n",
    "\n",
    "# Ask the user whether to include numbers\n",
    "nums = input('Do you want to include numbers? (y/n)')\n",
    "if nums == 'y':\n",
    "    incNums = True\n",
    "\n",
    "# Ask the user whether to include special characters\n",
    "char = input('Do you want to include special characters (y/n)')\n",
    "if char == 'y':\n",
    "    incChar = True\n",
    "\n",
    "pwd = ''\n",
    "\n",
    "# Generate the password based on the specified criteria\n",
    "while i < noChars:\n",
    "    # Add a random lowercase letter to the password\n",
    "    pwd += random.choice(letts)\n",
    "    i += 1\n",
    "\n",
    "    # If uppercase letters are allowed and the password length is not reached yet, add a random uppercase letter\n",
    "    if incCaps and i < noChars:\n",
    "        pwd += random.choice(letts).upper()\n",
    "        i += 1\n",
    "\n",
    "    # If numbers are allowed and the password length is not reached yet, add a random digit (0-9)\n",
    "    if incNums and i < noChars:\n",
    "        pwd += str(random.randint(0, 9))\n",
    "        i += 1\n",
    "\n",
    "    # If special characters are allowed and the password length is not reached yet, add a random special character\n",
    "    if incChar and i < noChars:\n",
    "        pwd += random.choice(chars)\n",
    "        i += 1\n",
    "\n",
    "# Shuffle the password to make the order of characters more random\n",
    "random.shuffle(list(pwd))\n",
    "\n",
    "# Join the characters together to form the final password\n",
    "pwd = ''.join(pwd)\n",
    "\n",
    "# Print the generated password\n",
    "print(pwd)"
   ]
  },
  {
   "cell_type": "code",
   "execution_count": null,
   "id": "e0b4263c",
   "metadata": {},
   "outputs": [],
   "source": []
  }
 ],
 "metadata": {
  "kernelspec": {
   "display_name": "Python 3 (ipykernel)",
   "language": "python",
   "name": "python3"
  },
  "language_info": {
   "codemirror_mode": {
    "name": "ipython",
    "version": 3
   },
   "file_extension": ".py",
   "mimetype": "text/x-python",
   "name": "python",
   "nbconvert_exporter": "python",
   "pygments_lexer": "ipython3",
   "version": "3.11.3"
  }
 },
 "nbformat": 4,
 "nbformat_minor": 5
}
